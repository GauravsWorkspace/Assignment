{
 "cells": [
  {
   "cell_type": "code",
   "execution_count": 1,
   "id": "2e05c03e-47e1-499b-8b72-27a88142750e",
   "metadata": {},
   "outputs": [
    {
     "name": "stdout",
     "output_type": "stream",
     "text": [
      "Hello world!\n"
     ]
    }
   ],
   "source": [
    "print(\"Hello world!\")"
   ]
  },
  {
   "cell_type": "code",
   "execution_count": 4,
   "id": "d9999134-69b7-4895-a261-11dd5a37ba57",
   "metadata": {},
   "outputs": [
    {
     "name": "stdout",
     "output_type": "stream",
     "text": [
      "Collecting pandas\n",
      "  Downloading pandas-2.2.3-cp312-cp312-win_amd64.whl.metadata (19 kB)\n",
      "Collecting numpy>=1.26.0 (from pandas)\n",
      "  Downloading numpy-2.1.3-cp312-cp312-win_amd64.whl.metadata (60 kB)\n",
      "Requirement already satisfied: python-dateutil>=2.8.2 in c:\\users\\msi\\appdata\\local\\programs\\python\\python312\\lib\\site-packages (from pandas) (2.9.0.post0)\n",
      "Collecting pytz>=2020.1 (from pandas)\n",
      "  Downloading pytz-2024.2-py2.py3-none-any.whl.metadata (22 kB)\n",
      "Collecting tzdata>=2022.7 (from pandas)\n",
      "  Downloading tzdata-2024.2-py2.py3-none-any.whl.metadata (1.4 kB)\n",
      "Requirement already satisfied: six>=1.5 in c:\\users\\msi\\appdata\\local\\programs\\python\\python312\\lib\\site-packages (from python-dateutil>=2.8.2->pandas) (1.16.0)\n",
      "Downloading pandas-2.2.3-cp312-cp312-win_amd64.whl (11.5 MB)\n",
      "   ---------------------------------------- 0.0/11.5 MB ? eta -:--:--\n",
      "   - -------------------------------------- 0.5/11.5 MB 5.6 MB/s eta 0:00:02\n",
      "   ----- ---------------------------------- 1.6/11.5 MB 4.4 MB/s eta 0:00:03\n",
      "   --------- ------------------------------ 2.6/11.5 MB 4.6 MB/s eta 0:00:02\n",
      "   ------------ --------------------------- 3.7/11.5 MB 4.6 MB/s eta 0:00:02\n",
      "   ----------------- ---------------------- 5.0/11.5 MB 5.0 MB/s eta 0:00:02\n",
      "   --------------------- ------------------ 6.3/11.5 MB 5.1 MB/s eta 0:00:02\n",
      "   -------------------------- ------------- 7.6/11.5 MB 5.4 MB/s eta 0:00:01\n",
      "   ------------------------------ --------- 8.7/11.5 MB 5.3 MB/s eta 0:00:01\n",
      "   ----------------------------------- ---- 10.2/11.5 MB 5.5 MB/s eta 0:00:01\n",
      "   ---------------------------------------- 11.5/11.5 MB 5.6 MB/s eta 0:00:00\n",
      "Downloading numpy-2.1.3-cp312-cp312-win_amd64.whl (12.6 MB)\n",
      "   ---------------------------------------- 0.0/12.6 MB ? eta -:--:--\n",
      "   ----- ---------------------------------- 1.6/12.6 MB 7.6 MB/s eta 0:00:02\n",
      "   ---------- ----------------------------- 3.4/12.6 MB 8.0 MB/s eta 0:00:02\n",
      "   ---------------- ----------------------- 5.2/12.6 MB 8.4 MB/s eta 0:00:01\n",
      "   ---------------------- ----------------- 7.1/12.6 MB 8.2 MB/s eta 0:00:01\n",
      "   ---------------------------- ----------- 8.9/12.6 MB 8.4 MB/s eta 0:00:01\n",
      "   --------------------------------- ------ 10.5/12.6 MB 8.3 MB/s eta 0:00:01\n",
      "   ---------------------------------------  12.3/12.6 MB 8.3 MB/s eta 0:00:01\n",
      "   ---------------------------------------- 12.6/12.6 MB 8.0 MB/s eta 0:00:00\n",
      "Downloading pytz-2024.2-py2.py3-none-any.whl (508 kB)\n",
      "Downloading tzdata-2024.2-py2.py3-none-any.whl (346 kB)\n",
      "Installing collected packages: pytz, tzdata, numpy, pandas\n",
      "Successfully installed numpy-2.1.3 pandas-2.2.3 pytz-2024.2 tzdata-2024.2\n"
     ]
    },
    {
     "name": "stderr",
     "output_type": "stream",
     "text": [
      "\n",
      "[notice] A new release of pip is available: 24.2 -> 24.3.1\n",
      "[notice] To update, run: python.exe -m pip install --upgrade pip\n"
     ]
    }
   ],
   "source": [
    "!pip install pandas "
   ]
  },
  {
   "cell_type": "code",
   "execution_count": 5,
   "id": "a489872a-0a34-4a11-9d31-533e8cab70c7",
   "metadata": {},
   "outputs": [
    {
     "name": "stdout",
     "output_type": "stream",
     "text": [
      "Requirement already satisfied: numpy in c:\\users\\msi\\appdata\\local\\programs\\python\\python312\\lib\\site-packages (2.1.3)\n"
     ]
    },
    {
     "name": "stderr",
     "output_type": "stream",
     "text": [
      "\n",
      "[notice] A new release of pip is available: 24.2 -> 24.3.1\n",
      "[notice] To update, run: python.exe -m pip install --upgrade pip\n"
     ]
    }
   ],
   "source": [
    "!pip install numpy"
   ]
  },
  {
   "cell_type": "code",
   "execution_count": 6,
   "id": "062fd918-ff0f-4984-813c-e9753a158a69",
   "metadata": {},
   "outputs": [
    {
     "name": "stderr",
     "output_type": "stream",
     "text": [
      "\n",
      "[notice] A new release of pip is available: 24.2 -> 24.3.1\n",
      "[notice] To update, run: python.exe -m pip install --upgrade pip\n"
     ]
    },
    {
     "name": "stdout",
     "output_type": "stream",
     "text": [
      "Collecting seaborn\n",
      "  Downloading seaborn-0.13.2-py3-none-any.whl.metadata (5.4 kB)\n",
      "Requirement already satisfied: numpy!=1.24.0,>=1.20 in c:\\users\\msi\\appdata\\local\\programs\\python\\python312\\lib\\site-packages (from seaborn) (2.1.3)\n",
      "Requirement already satisfied: pandas>=1.2 in c:\\users\\msi\\appdata\\local\\programs\\python\\python312\\lib\\site-packages (from seaborn) (2.2.3)\n",
      "Collecting matplotlib!=3.6.1,>=3.4 (from seaborn)\n",
      "  Downloading matplotlib-3.9.2-cp312-cp312-win_amd64.whl.metadata (11 kB)\n",
      "Collecting contourpy>=1.0.1 (from matplotlib!=3.6.1,>=3.4->seaborn)\n",
      "  Downloading contourpy-1.3.1-cp312-cp312-win_amd64.whl.metadata (5.4 kB)\n",
      "Collecting cycler>=0.10 (from matplotlib!=3.6.1,>=3.4->seaborn)\n",
      "  Downloading cycler-0.12.1-py3-none-any.whl.metadata (3.8 kB)\n",
      "Collecting fonttools>=4.22.0 (from matplotlib!=3.6.1,>=3.4->seaborn)\n",
      "  Downloading fonttools-4.55.0-cp312-cp312-win_amd64.whl.metadata (167 kB)\n",
      "Collecting kiwisolver>=1.3.1 (from matplotlib!=3.6.1,>=3.4->seaborn)\n",
      "  Downloading kiwisolver-1.4.7-cp312-cp312-win_amd64.whl.metadata (6.4 kB)\n",
      "Requirement already satisfied: packaging>=20.0 in c:\\users\\msi\\appdata\\local\\programs\\python\\python312\\lib\\site-packages (from matplotlib!=3.6.1,>=3.4->seaborn) (24.1)\n",
      "Collecting pillow>=8 (from matplotlib!=3.6.1,>=3.4->seaborn)\n",
      "  Downloading pillow-11.0.0-cp312-cp312-win_amd64.whl.metadata (9.3 kB)\n",
      "Collecting pyparsing>=2.3.1 (from matplotlib!=3.6.1,>=3.4->seaborn)\n",
      "  Downloading pyparsing-3.2.0-py3-none-any.whl.metadata (5.0 kB)\n",
      "Requirement already satisfied: python-dateutil>=2.7 in c:\\users\\msi\\appdata\\local\\programs\\python\\python312\\lib\\site-packages (from matplotlib!=3.6.1,>=3.4->seaborn) (2.9.0.post0)\n",
      "Requirement already satisfied: pytz>=2020.1 in c:\\users\\msi\\appdata\\local\\programs\\python\\python312\\lib\\site-packages (from pandas>=1.2->seaborn) (2024.2)\n",
      "Requirement already satisfied: tzdata>=2022.7 in c:\\users\\msi\\appdata\\local\\programs\\python\\python312\\lib\\site-packages (from pandas>=1.2->seaborn) (2024.2)\n",
      "Requirement already satisfied: six>=1.5 in c:\\users\\msi\\appdata\\local\\programs\\python\\python312\\lib\\site-packages (from python-dateutil>=2.7->matplotlib!=3.6.1,>=3.4->seaborn) (1.16.0)\n",
      "Downloading seaborn-0.13.2-py3-none-any.whl (294 kB)\n",
      "Downloading matplotlib-3.9.2-cp312-cp312-win_amd64.whl (7.8 MB)\n",
      "   ---------------------------------------- 0.0/7.8 MB ? eta -:--:--\n",
      "   -------- ------------------------------- 1.6/7.8 MB 7.7 MB/s eta 0:00:01\n",
      "   --------------------- ------------------ 4.2/7.8 MB 10.1 MB/s eta 0:00:01\n",
      "   ---------------------------------- ----- 6.8/7.8 MB 11.1 MB/s eta 0:00:01\n",
      "   ---------------------------------------- 7.8/7.8 MB 10.3 MB/s eta 0:00:00\n",
      "Downloading contourpy-1.3.1-cp312-cp312-win_amd64.whl (220 kB)\n",
      "Downloading cycler-0.12.1-py3-none-any.whl (8.3 kB)\n",
      "Downloading fonttools-4.55.0-cp312-cp312-win_amd64.whl (2.2 MB)\n",
      "   ---------------------------------------- 0.0/2.2 MB ? eta -:--:--\n",
      "   -------------------------------------- - 2.1/2.2 MB 11.8 MB/s eta 0:00:01\n",
      "   ---------------------------------------- 2.2/2.2 MB 8.3 MB/s eta 0:00:00\n",
      "Downloading kiwisolver-1.4.7-cp312-cp312-win_amd64.whl (55 kB)\n",
      "Downloading pillow-11.0.0-cp312-cp312-win_amd64.whl (2.6 MB)\n",
      "   ---------------------------------------- 0.0/2.6 MB ? eta -:--:--\n",
      "   ---------------------------- ----------- 1.8/2.6 MB 14.4 MB/s eta 0:00:01\n",
      "   ---------------------------------------- 2.6/2.6 MB 11.4 MB/s eta 0:00:00\n",
      "Downloading pyparsing-3.2.0-py3-none-any.whl (106 kB)\n",
      "Installing collected packages: pyparsing, pillow, kiwisolver, fonttools, cycler, contourpy, matplotlib, seaborn\n",
      "Successfully installed contourpy-1.3.1 cycler-0.12.1 fonttools-4.55.0 kiwisolver-1.4.7 matplotlib-3.9.2 pillow-11.0.0 pyparsing-3.2.0 seaborn-0.13.2\n"
     ]
    }
   ],
   "source": [
    "!pip install seaborn"
   ]
  },
  {
   "cell_type": "code",
   "execution_count": 7,
   "id": "6d2b5dfb-daa8-4805-aa4c-881d1085a012",
   "metadata": {},
   "outputs": [
    {
     "name": "stdout",
     "output_type": "stream",
     "text": [
      "Requirement already satisfied: matplotlib in c:\\users\\msi\\appdata\\local\\programs\\python\\python312\\lib\\site-packages (3.9.2)\n",
      "Requirement already satisfied: contourpy>=1.0.1 in c:\\users\\msi\\appdata\\local\\programs\\python\\python312\\lib\\site-packages (from matplotlib) (1.3.1)\n",
      "Requirement already satisfied: cycler>=0.10 in c:\\users\\msi\\appdata\\local\\programs\\python\\python312\\lib\\site-packages (from matplotlib) (0.12.1)\n",
      "Requirement already satisfied: fonttools>=4.22.0 in c:\\users\\msi\\appdata\\local\\programs\\python\\python312\\lib\\site-packages (from matplotlib) (4.55.0)\n",
      "Requirement already satisfied: kiwisolver>=1.3.1 in c:\\users\\msi\\appdata\\local\\programs\\python\\python312\\lib\\site-packages (from matplotlib) (1.4.7)\n",
      "Requirement already satisfied: numpy>=1.23 in c:\\users\\msi\\appdata\\local\\programs\\python\\python312\\lib\\site-packages (from matplotlib) (2.1.3)\n",
      "Requirement already satisfied: packaging>=20.0 in c:\\users\\msi\\appdata\\local\\programs\\python\\python312\\lib\\site-packages (from matplotlib) (24.1)\n",
      "Requirement already satisfied: pillow>=8 in c:\\users\\msi\\appdata\\local\\programs\\python\\python312\\lib\\site-packages (from matplotlib) (11.0.0)\n",
      "Requirement already satisfied: pyparsing>=2.3.1 in c:\\users\\msi\\appdata\\local\\programs\\python\\python312\\lib\\site-packages (from matplotlib) (3.2.0)\n",
      "Requirement already satisfied: python-dateutil>=2.7 in c:\\users\\msi\\appdata\\local\\programs\\python\\python312\\lib\\site-packages (from matplotlib) (2.9.0.post0)\n",
      "Requirement already satisfied: six>=1.5 in c:\\users\\msi\\appdata\\local\\programs\\python\\python312\\lib\\site-packages (from python-dateutil>=2.7->matplotlib) (1.16.0)\n"
     ]
    },
    {
     "name": "stderr",
     "output_type": "stream",
     "text": [
      "\n",
      "[notice] A new release of pip is available: 24.2 -> 24.3.1\n",
      "[notice] To update, run: python.exe -m pip install --upgrade pip\n"
     ]
    }
   ],
   "source": [
    "!pip install matplotlib"
   ]
  },
  {
   "cell_type": "code",
   "execution_count": 8,
   "id": "99abe4a9-b994-4ed7-b7b2-b7e2312deb35",
   "metadata": {},
   "outputs": [
    {
     "name": "stderr",
     "output_type": "stream",
     "text": [
      "ERROR: Could not find a version that satisfies the requirement pyplot (from versions: none)\n",
      "\n",
      "[notice] A new release of pip is available: 24.2 -> 24.3.1\n",
      "[notice] To update, run: python.exe -m pip install --upgrade pip\n",
      "ERROR: No matching distribution found for pyplot\n"
     ]
    }
   ],
   "source": [
    "!pip install pyplot"
   ]
  },
  {
   "cell_type": "code",
   "execution_count": 9,
   "id": "3b7b60c9-9316-4efa-b862-6dba4e692632",
   "metadata": {},
   "outputs": [],
   "source": [
    "import pandas as pd\n",
    "import numpy as np"
   ]
  },
  {
   "cell_type": "code",
   "execution_count": 10,
   "id": "507ec4dc-ecaf-4923-a06d-afeffb27d24d",
   "metadata": {},
   "outputs": [],
   "source": [
    "import sys"
   ]
  },
  {
   "cell_type": "code",
   "execution_count": 14,
   "id": "ab5e7903-eaba-45a6-95ff-422de1d726a0",
   "metadata": {},
   "outputs": [],
   "source": [
    "name = \"GauravMishra\"  # Replace with your actual name\n",
    "course_name = \"MCA\""
   ]
  },
  {
   "cell_type": "code",
   "execution_count": 15,
   "id": "ecf994be-a3eb-40cd-915b-fe6a1cceb68e",
   "metadata": {},
   "outputs": [],
   "source": [
    "python_version = sys.version\n"
   ]
  },
  {
   "cell_type": "code",
   "execution_count": 16,
   "id": "9afa2319-aca9-4937-a5a9-223c3ccf0159",
   "metadata": {},
   "outputs": [
    {
     "name": "stdout",
     "output_type": "stream",
     "text": [
      "Name: GauravMishra\n",
      "Course Name: MCA\n",
      "Python Version: 3.12.7 (tags/v3.12.7:0b05ead, Oct  1 2024, 03:06:41) [MSC v.1941 64 bit (AMD64)]\n"
     ]
    }
   ],
   "source": [
    "# Print the information\n",
    "print(f\"Name: {name}\")\n",
    "print(f\"Course Name: {course_name}\")\n",
    "print(f\"Python Version: {python_version}\")"
   ]
  },
  {
   "cell_type": "code",
   "execution_count": 17,
   "id": "b8444135-bb72-4629-996e-2e3afbeeb988",
   "metadata": {},
   "outputs": [
    {
     "name": "stdout",
     "output_type": "stream",
     "text": [
      "Hello, Python World!\n"
     ]
    }
   ],
   "source": [
    "# Print Hello,Python World\n",
    "print(\"Hello, Python World!\")"
   ]
  },
  {
   "cell_type": "code",
   "execution_count": 18,
   "id": "a3d6cd91-8e14-4583-8a16-362e09c0a46c",
   "metadata": {},
   "outputs": [
    {
     "name": "stdin",
     "output_type": "stream",
     "text": [
      "Enter your first name:  Gaurav\n",
      "Enter your last name:  Mishra\n"
     ]
    },
    {
     "name": "stdout",
     "output_type": "stream",
     "text": [
      "Your name in reverse order: Mishra Gaurav\n"
     ]
    }
   ],
   "source": [
    "first_name = input(\"Enter your first name: \")\n",
    "last_name = input(\"Enter your last name: \")\n",
    "\n",
    "# Reverse the order of the names\n",
    "reversed_name = last_name + \" \" + first_name\n",
    "\n",
    "# Print the reversed name\n",
    "print(\"Your name in reverse order:\", reversed_name)"
   ]
  },
  {
   "cell_type": "code",
   "execution_count": 19,
   "id": "d83022cb-c6cb-41af-badf-5038a38eb0f6",
   "metadata": {},
   "outputs": [
    {
     "name": "stdout",
     "output_type": "stream",
     "text": [
      "\n",
      "Converted String:\n",
      "HELLO UPES DEHRADUN\n",
      "\n",
      "Converted String:\n",
      "hello upes dehradun\n"
     ]
    }
   ],
   "source": [
    "\n",
    "# In[13]:\n",
    "\n",
    "\n",
    "#String methods used are\n",
    "#lower():Converts all uppercase characters in a string into lowercase\n",
    "#Upper(): Converts all lowercase characters in a string into uppercase\n",
    "\n",
    "# Python3 program to show the\n",
    "# working of upper() function\n",
    "text = 'HellO Upes DehradUn'\n",
    "\n",
    "# upper() function to convert\n",
    "# string to upper case\n",
    "print(\"\\nConverted String:\")\n",
    "print(text.upper())\n",
    "\n",
    "# lower() function to convert\n",
    "# string to lower case\n",
    "print(\"\\nConverted String:\")\n",
    "print(text.lower())\n"
   ]
  },
  {
   "cell_type": "code",
   "execution_count": null,
   "id": "1cb4dabb-835f-4912-99ca-0af80ec7f86a",
   "metadata": {},
   "outputs": [],
   "source": [
    "# In[2]:\n",
    "\n",
    "\n",
    "# Get user input\n",
    "user_input = input(\"Enter a number: \")\n",
    "\n",
    "# Convert input to different numeric data types\n",
    "try:\n",
    "    # Convert to integer\n",
    "    integer_value = int(user_input)\n",
    "    print(f\"Integer value: {integer_value}\")\n",
    "except ValueError:\n",
    "    print(\"Invalid input for integer conversion.\")\n",
    "\n",
    "try:\n",
    "    # Convert to float\n",
    "    float_value = float(user_input)\n",
    "    print(f\"Float value: {float_value}\")\n",
    "except ValueError:\n",
    "    print(\"Invalid input for float conversion.\")\n",
    "\n",
    "try:\n",
    "    # Convert to complex\n",
    "    complex_value = complex(user_input)\n",
    "    print(f\"Complex value: {complex_value}\")\n",
    "except ValueError:\n",
    "    print(\"Invalid input for complex conversion.\")\n"
   ]
  },
  {
   "cell_type": "code",
   "execution_count": 21,
   "id": "b7e51c38-27b6-4c45-8848-6eb93191d25a",
   "metadata": {},
   "outputs": [
    {
     "name": "stdin",
     "output_type": "stream",
     "text": [
      "Enter the length of the rectangle:  789\n",
      "Enter the width of the rectangle:  3\n"
     ]
    },
    {
     "name": "stdout",
     "output_type": "stream",
     "text": [
      "The area of the rectangle is: 2367.0 square units\n"
     ]
    }
   ],
   "source": [
    "# In[3]:\n",
    "\n",
    "\n",
    "# Function to calculate the area of a rectangle\n",
    "def calculate_area(length, width):\n",
    "    return length * width\n",
    "\n",
    "# Get user input for length and width\n",
    "try:\n",
    "    length = float(input(\"Enter the length of the rectangle: \"))  # Prompt for length\n",
    "    width = float(input(\"Enter the width of the rectangle: \"))    # Prompt for width\n",
    "\n",
    "    # Calculate the area\n",
    "    area = calculate_area(length, width)\n",
    "\n",
    "    # Display the result\n",
    "    print(f\"The area of the rectangle is: {area} square units\")\n",
    "except ValueError:\n",
    "    print(\"Please enter valid numerical values for length and width.\")\n",
    "  \n",
    "\n"
   ]
  },
  {
   "cell_type": "code",
   "execution_count": 22,
   "id": "b9feec19-ba5a-4c87-aba2-6f8b35709d71",
   "metadata": {},
   "outputs": [
    {
     "name": "stdin",
     "output_type": "stream",
     "text": [
      "Enter the length of the rectangle:  39898\n",
      "Enter the width of the rectangle:  89g90\n"
     ]
    },
    {
     "name": "stdout",
     "output_type": "stream",
     "text": [
      "Please enter valid numerical values for length and width.\n"
     ]
    }
   ],
   "source": [
    "# In[5]:\n",
    "\n",
    "\n",
    "# Function to calculate the area of a rectangle\n",
    "def calculate_area(length, width):\n",
    "    return length * width\n",
    "\n",
    "# Get user input for length and width\n",
    "try:\n",
    "    length = float(input(\"Enter the length of the rectangle: \"))  # Prompt for length\n",
    "    width = float(input(\"Enter the width of the rectangle: \"))    # Prompt for width\n",
    "\n",
    "    # Calculate the area\n",
    "    area = calculate_area(length, width)\n",
    "\n",
    "    # Display the result formatted to two decimal places\n",
    "    print(\"The area of the rectangle is: {:.2f} square units\".format(area))\n",
    "except ValueError:\n",
    "    print(\"Please enter valid numerical values for length and width.\")\n"
   ]
  },
  {
   "cell_type": "code",
   "execution_count": 23,
   "id": "5fa57f1b-1a2c-48d1-97ca-54a5ce0370c6",
   "metadata": {},
   "outputs": [
    {
     "name": "stdin",
     "output_type": "stream",
     "text": [
      "Enter the first number:  Gaurav\n"
     ]
    },
    {
     "name": "stdout",
     "output_type": "stream",
     "text": [
      "Please enter valid numerical values for the numbers.\n"
     ]
    }
   ],
   "source": [
    "# In[7]:\n",
    "\n",
    "\n",
    "# Function to calculate the average of three numbers\n",
    "def calculate_average(num1, num2, num3):\n",
    "    return (num1 + num2 + num3) / 3\n",
    "\n",
    "# Get user input for three numbers\n",
    "try:\n",
    "    number1 = float(input(\"Enter the first number: \"))  # Prompt for the first number\n",
    "    number2 = float(input(\"Enter the second number: \")) # Prompt for the second number\n",
    "    number3 = float(input(\"Enter the third number: \"))   # Prompt for the third number\n",
    "\n",
    "    # Calculate the average\n",
    "    average = calculate_average(number1, number2, number3)\n",
    "\n",
    "    # Display the result using % formatting\n",
    "    print(\"The average of the three numbers is: %.2f\" % average)\n",
    "except ValueError:\n",
    "    print(\"Please enter valid numerical values for the numbers.\")\n",
    "\n",
    "\n",
    "\n"
   ]
  },
  {
   "cell_type": "code",
   "execution_count": 24,
   "id": "82e494a5-8ecb-4c37-8143-8c3effc1f0a2",
   "metadata": {},
   "outputs": [
    {
     "name": "stdin",
     "output_type": "stream",
     "text": [
      "Enter a number (or type 'exit' to quit):  exit\n"
     ]
    },
    {
     "name": "stdout",
     "output_type": "stream",
     "text": [
      "Exiting the program. Goodbye!\n"
     ]
    }
   ],
   "source": [
    "# In[8]:\n",
    "\n",
    "\n",
    "# Function to determine if the number is positive, negative, or zero\n",
    "def determine_number_type(number):\n",
    "    if number > 0:\n",
    "        return \"positive\"\n",
    "    elif number < 0:\n",
    "        return \"negative\"\n",
    "    else:\n",
    "        return \"zero\"\n",
    "\n",
    "while True:\n",
    "    user_input = input(\"Enter a number (or type 'exit' to quit): \")  # Prompt for a number\n",
    "\n",
    "    if user_input.lower() == 'exit':  # Check if the user wants to exit\n",
    "        print(\"Exiting the program. Goodbye!\")\n",
    "        break  # Exit the loop\n",
    "\n",
    "    try:\n",
    "        # Convert input to float\n",
    "        number = float(user_input)\n",
    "\n",
    "        # Determine the type of the number\n",
    "        number_type = determine_number_type(number)\n",
    "\n",
    "        # Display the result\n",
    "        print(f\"The number you entered is {number_type}.\")\n",
    "    except ValueError:\n",
    "        print(\"Please enter a valid numerical value.\")"
   ]
  },
  {
   "cell_type": "code",
   "execution_count": 26,
   "id": "0db99684-b6c8-4a4c-9ed6-aba3d815b51f",
   "metadata": {},
   "outputs": [
    {
     "name": "stdin",
     "output_type": "stream",
     "text": [
      "Enter the first number:  678\n",
      "Enter the second number:  739\n"
     ]
    },
    {
     "name": "stdout",
     "output_type": "stream",
     "text": [
      "One number is even and the other is odd.\n"
     ]
    }
   ],
   "source": [
    "\n",
    "# In[10]:\n",
    "\n",
    "\n",
    "# Function to determine if the numbers are even or odd\n",
    "def check_even_odd(num1, num2):\n",
    "    # Check if both numbers are even\n",
    "    if num1 % 2 == 0 and num2 % 2 == 0:\n",
    "        return \"Both numbers are even.\"\n",
    "    # Check if both numbers are odd\n",
    "    elif num1 % 2 != 0 and num2 % 2 != 0:\n",
    "        return \"Both numbers are odd.\"\n",
    "    # If one is even and the other is odd\n",
    "    else:\n",
    "        return \"One number is even and the other is odd.\"\n",
    "\n",
    "# Get user input for two numbers\n",
    "try:\n",
    "    number1 = float(input(\"Enter the first number: \"))  # Prompt for the first number\n",
    "    number2 = float(input(\"Enter the second number: \")) # Prompt for the second number\n",
    "\n",
    "    # Ensure that the numbers are integers for even/odd check\n",
    "    if number1.is_integer() and number2.is_integer():\n",
    "        # Call the function to check even or odd\n",
    "        result = check_even_odd(int(number1), int(number2))\n",
    "        # Display the result\n",
    "        print(result)\n",
    "    else:\n",
    "        print(\"Please enter valid integer values for even/odd check.\")\n",
    "except ValueError:\n",
    "    print(\"Please enter valid numerical values.\")\n",
    "\n"
   ]
  },
  {
   "cell_type": "code",
   "execution_count": 27,
   "id": "7c7ea274-faf3-4583-af19-9f3e52538208",
   "metadata": {},
   "outputs": [],
   "source": [
    "# In[11]:\n",
    "\n",
    "\n",
    "# Function to convert an integer to binary, octal, and hexadecimal\n",
    "def convert_number(num):\n",
    "    # Initialize empty strings for binary, octal, and hexadecimal\n",
    "    binary = \"\"\n",
    "    octal = \"\"\n",
    "    hexadecimal = \"\"\n",
    "\n",
    "    # Convert to binary using bitwise operators\n",
    "    for i in range(31, -1, -1):  # Loop from 31 to 0 for a 32-bit representation\n",
    "        if num & (1 << i):  # Check if the ith bit is set\n",
    "            binary += \"1\"\n",
    "        else:\n",
    "            binary += \"0\"\n",
    "\n",
    "    # Remove leading zeros from binary representation\n",
    "    binary = binary.lstrip(\"0\") or \"0\"  # Ensure at least one '0' if the number is 0\n",
    "\n",
    "    # Convert to octal using bitwise operators\n",
    "    temp_num = num\n",
    "    while temp_num > 0:\n",
    "        octal = str(temp_num & 7) + octal  # Get the last 3 bits (octal digit)\n",
    "        temp_num >>= 3  # Right shift by 3 bits to process the next octal digit\n",
    "\n",
    "    # If the number is 0, set octal to \"0\"\n",
    "    if num == 0:\n",
    "        octal = \"0\"\n",
    "\n",
    "    # Convert to hexadecimal using bitwise operators\n",
    "    temp_num = num\n",
    "    while temp_num > 0:\n",
    "        hex_digit = temp_num & 15  # Get the last 4 bits (hexadecimal digit)\n",
    "        if hex_digit < 10:\n",
    "            hexadecimal = str(hex_digit) + hexadecimal  # Convert to string\n",
    "        else:\n",
    "            hexadecimal = chr(hex_digit - 10 + ord('A')) + hexadecimal  # Convert to A-F\n",
    "        temp_num >>= 4  # Right shift by 4 bits to process the next hex digit\n",
    "\n",
    "    # If the number is 0, set hexadecimal to \"0\"\n",
    "    if num == 0:\n",
    "        hexadecimal = \"0\"\n",
    "\n",
    "    return binary, octal, hexadecimal"
   ]
  },
  {
   "cell_type": "code",
   "execution_count": 28,
   "id": "244e2ff3-2a9d-4bb6-a1e3-2ff86cf1a7b9",
   "metadata": {},
   "outputs": [
    {
     "name": "stdin",
     "output_type": "stream",
     "text": [
      "Enter an integer:  78\n"
     ]
    },
    {
     "name": "stdout",
     "output_type": "stream",
     "text": [
      "Binary: 1001110\n",
      "Octal: 116\n",
      "Hexadecimal: 4E\n"
     ]
    }
   ],
   "source": [
    "# Get user input\n",
    "try:\n",
    "    number = int(input(\"Enter an integer: \"))  # Prompt for an integer\n",
    "\n",
    "    # Convert the number and get its representations\n",
    "    binary_rep, octal_rep, hex_rep = convert_number(number)\n",
    "\n",
    "    # Display the results\n",
    "    print(f\"Binary: {binary_rep}\")\n",
    "    print(f\"Octal: {octal_rep}\")\n",
    "    print(f\"Hexadecimal: {hex_rep}\")\n",
    "except ValueError:\n",
    "    print(\"Please enter a valid integer.\")"
   ]
  },
  {
   "cell_type": "code",
   "execution_count": null,
   "id": "39e90b49-315c-4586-a6bb-df1c26f994e5",
   "metadata": {},
   "outputs": [],
   "source": []
  }
 ],
 "metadata": {
  "kernelspec": {
   "display_name": "Python 3 (ipykernel)",
   "language": "python",
   "name": "python3"
  },
  "language_info": {
   "codemirror_mode": {
    "name": "ipython",
    "version": 3
   },
   "file_extension": ".py",
   "mimetype": "text/x-python",
   "name": "python",
   "nbconvert_exporter": "python",
   "pygments_lexer": "ipython3",
   "version": "3.12.7"
  }
 },
 "nbformat": 4,
 "nbformat_minor": 5
}
