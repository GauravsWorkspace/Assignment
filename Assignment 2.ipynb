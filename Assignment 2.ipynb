{
 "cells": [
  {
   "cell_type": "code",
   "execution_count": 2,
   "id": "f54e8bbd-a6c6-417c-ad1a-8baa63ea1a9f",
   "metadata": {},
   "outputs": [
    {
     "name": "stdout",
     "output_type": "stream",
     "text": [
      "Hello Alice\n",
      "Good morning Bob\n"
     ]
    }
   ],
   "source": [
    "def greet(name,greeting = \"Hello\"): #variable greeting have a default value \"Hello\"\n",
    "    print(f\"{greeting} {name}\") #using string formatting\n",
    "    \n",
    "greet(\"Alice\")\n",
    "greet(\"Bob\",\"Good morning\")\n"
   ]
  },
  {
   "cell_type": "code",
   "execution_count": 3,
   "id": "2e9b6176-1c22-4c44-a12c-d108818edcd8",
   "metadata": {},
   "outputs": [
    {
     "name": "stdout",
     "output_type": "stream",
     "text": [
      "Name: John, Age: 18, City: Chicago\n",
      "Name: Emma, Age: 22, City: Los Angeles\n"
     ]
    }
   ],
   "source": [
    "\n",
    "# In[2]:\n",
    "\n",
    "\n",
    "\n",
    "#creating a function name as create_profile\n",
    "def create_profile(name , city, age = 18): #age variable stores a default value 18\n",
    "    print(f\"Name: {name}, Age: {age}, City: {city}\" )\n",
    "    \n",
    "create_profile(name =\"John\", city = \"Chicago\")\n",
    "create_profile(name=\"Emma\", age=22, city=\"Los Angeles\")"
   ]
  },
  {
   "cell_type": "code",
   "execution_count": 4,
   "id": "e110cb32-0047-4f77-bab8-acd3b770eaa9",
   "metadata": {},
   "outputs": [
    {
     "name": "stdout",
     "output_type": "stream",
     "text": [
      "6\n",
      "(3, {'x': 4, 'y': 5})\n"
     ]
    }
   ],
   "source": [
    "# TASK 3: Using args and kwargs Write a function sum_numbers that takes any number of positional arguments (args) and keyword arguments *(kwargs).* It should: Return the sum of all* args if they are numbers. Return a dictionary of all keyword arguments.*\n",
    "\n",
    "# In[3]:\n",
    "\n",
    "\n",
    "#creating a function \"sum_numbers\"\n",
    "def sum_numbers(*args, **kwargs):\n",
    "    # Filter and sum positional arguments that are numbers\n",
    "    totalSum = sum(arg for arg in args if isinstance(arg, (int, float)))\n",
    "    \n",
    "    # Return only the sum if no keyword arguments are passed\n",
    "    if not kwargs:\n",
    "        return totalSum\n",
    "    \n",
    "    # Return the sum and the dictionary of keyword arguments if any\n",
    "    return totalSum, kwargs\n",
    "\n",
    "print(sum_numbers(1, 2, 3))             \n",
    "print(sum_numbers(1, 2, x=4, y=5))\n"
   ]
  },
  {
   "cell_type": "code",
   "execution_count": 5,
   "id": "b3337972-8b07-4e09-adc4-23d3672b7db6",
   "metadata": {},
   "outputs": [
    {
     "data": {
      "text/plain": [
       "[1, 4, 9, 16]"
      ]
     },
     "execution_count": 5,
     "metadata": {},
     "output_type": "execute_result"
    }
   ],
   "source": [
    "# In[4]:\n",
    "\n",
    "\n",
    "def square_list(numbers):\n",
    "    squares= map(lambda x: x**2, numbers) #squaring the numbers present in the list\n",
    "    return list(squares) #returning the squares of the number where the function was called\n",
    "\n",
    "square_list([1, 2, 3, 4])\n"
   ]
  },
  {
   "cell_type": "code",
   "execution_count": 6,
   "id": "05c7c49d-798f-4496-9eee-d55d7e2472e6",
   "metadata": {},
   "outputs": [
    {
     "data": {
      "text/plain": [
       "[2, 4]"
      ]
     },
     "execution_count": 6,
     "metadata": {},
     "output_type": "execute_result"
    }
   ],
   "source": [
    "# In[5]:\n",
    "\n",
    "\n",
    "#creating a function that takes list as an arguement\n",
    "def filter_odd_numbers(numbers):\n",
    "    odd_numbers = filter(lambda x: x%2 == 0, numbers) #checking whether the number in numbers are divisible by 2\n",
    "    return list(odd_numbers)\n",
    "\n",
    "filter_odd_numbers([1,2,3,4,5])\n"
   ]
  },
  {
   "cell_type": "code",
   "execution_count": 7,
   "id": "a09fa32b-bd14-4b31-ab55-db764994b5bd",
   "metadata": {},
   "outputs": [
    {
     "name": "stdout",
     "output_type": "stream",
     "text": [
      "[0, 1, 4, 9, 16]\n"
     ]
    }
   ],
   "source": [
    "\n",
    "# In[6]:\n",
    "\n",
    "\n",
    "squares = [x**2 for x in range(5)]\n",
    "print(squares)\n",
    "\n"
   ]
  },
  {
   "cell_type": "code",
   "execution_count": 8,
   "id": "b6aa9774-80a0-47f7-8d56-465a7b777b8d",
   "metadata": {},
   "outputs": [
    {
     "name": "stdout",
     "output_type": "stream",
     "text": [
      "[2, 4, 6, 8, 10, 12, 14, 16, 18, 20]\n"
     ]
    }
   ],
   "source": [
    "# In[7]:\n",
    "\n",
    "\n",
    "evenNumbers = [x for x in range(1,21) if x%2 == 0]\n",
    "print(list(evenNumbers))\n"
   ]
  },
  {
   "cell_type": "code",
   "execution_count": 9,
   "id": "d516fd61-dd07-4876-955e-08fc90130586",
   "metadata": {},
   "outputs": [],
   "source": [
    "\n",
    "# In[8]:\n",
    "\n",
    "\n",
    "#importing time and os modules\n",
    "import os\n",
    "import time\n",
    "\n",
    "#creating non parametrized function, file_operations\n",
    "def file_operations():\n",
    "    \n",
    "    #creating a new directory\n",
    "    os.makedirs(\"test_folder\") #cretaed a directory named as test_folder\n",
    "    \n",
    "    time.sleep(3) #using sleep function from time module to stop the execution for 3 sec\n",
    "    \n",
    "    #removing a directory\n",
    "    os.rmdir(\"test_folder\")\n",
    "    \n",
    "file_operations()"
   ]
  },
  {
   "cell_type": "code",
   "execution_count": 10,
   "id": "469688e8-c4c7-43bd-b0ae-93392832820f",
   "metadata": {},
   "outputs": [
    {
     "name": "stdout",
     "output_type": "stream",
     "text": [
      "Paused execution...\n"
     ]
    }
   ],
   "source": [
    "\n",
    "# In[9]:\n",
    "\n",
    "\n",
    "#importing the function, sleep from time module and rename as pause\n",
    "from time import sleep as pause \n",
    "pause(2) #pauses the execution for 2 sec\n",
    "print(\"Paused execution...\")"
   ]
  },
  {
   "cell_type": "code",
   "execution_count": 11,
   "id": "744d1321-567e-4b20-9217-4ac41167cdc2",
   "metadata": {},
   "outputs": [
    {
     "name": "stdout",
     "output_type": "stream",
     "text": [
      "[1, 2, 3, 4, 5, 6]\n",
      "[1, 2, 3, 4, 5]\n"
     ]
    }
   ],
   "source": [
    "\n",
    "# In[10]:\n",
    "\n",
    "\n",
    "\n",
    "#creating a function that converts nested list into simple list\n",
    "def flatten_list(*args, **kwargs):\n",
    "    #uses *args to handle any number of arguments\n",
    "    flatten = []#creating an empty list\n",
    "    \n",
    "    for item in args:\n",
    "        if isinstance(item, list): #cheking whether each element is a list or a simple number\n",
    "            flatten.extend(flatten_list(*item, *kwargs))\n",
    "            \n",
    "        else:\n",
    "            flatten.append(item) #directly adding the element in the list if its not a list\n",
    "            \n",
    "    return flatten\n",
    "\n",
    "print(flatten_list([1, [2, 3], [[4, 5], 6]]))\n",
    "print(flatten_list([[1, 2], [3, [4, [5]]]]))"
   ]
  }
 ],
 "metadata": {
  "kernelspec": {
   "display_name": "Python 3 (ipykernel)",
   "language": "python",
   "name": "python3"
  },
  "language_info": {
   "codemirror_mode": {
    "name": "ipython",
    "version": 3
   },
   "file_extension": ".py",
   "mimetype": "text/x-python",
   "name": "python",
   "nbconvert_exporter": "python",
   "pygments_lexer": "ipython3",
   "version": "3.12.7"
  }
 },
 "nbformat": 4,
 "nbformat_minor": 5
}
